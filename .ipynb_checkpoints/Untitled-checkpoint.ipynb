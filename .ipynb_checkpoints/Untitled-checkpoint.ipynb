{
 "cells": [
  {
   "cell_type": "code",
   "execution_count": 1,
   "id": "a0ebd859",
   "metadata": {},
   "outputs": [],
   "source": [
    "import pandas as pd"
   ]
  },
  {
   "cell_type": "code",
   "execution_count": 14,
   "id": "5140d829",
   "metadata": {},
   "outputs": [
    {
     "data": {
      "text/html": [
       "<div>\n",
       "<style scoped>\n",
       "    .dataframe tbody tr th:only-of-type {\n",
       "        vertical-align: middle;\n",
       "    }\n",
       "\n",
       "    .dataframe tbody tr th {\n",
       "        vertical-align: top;\n",
       "    }\n",
       "\n",
       "    .dataframe thead th {\n",
       "        text-align: right;\n",
       "    }\n",
       "</style>\n",
       "<table border=\"1\" class=\"dataframe\">\n",
       "  <thead>\n",
       "    <tr style=\"text-align: right;\">\n",
       "      <th></th>\n",
       "      <th>Tên sách</th>\n",
       "      <th>Giá</th>\n",
       "      <th>Đã bán</th>\n",
       "      <th>Đánh giá</th>\n",
       "      <th>Link hình ảnh</th>\n",
       "      <th>Thể loại</th>\n",
       "    </tr>\n",
       "  </thead>\n",
       "  <tbody>\n",
       "    <tr>\n",
       "      <th>0</th>\n",
       "      <td>Sách - Nào mình cùng vẽ - Rừng xanh bí ẩn</td>\n",
       "      <td>36000</td>\n",
       "      <td>2</td>\n",
       "      <td>5.0</td>\n",
       "      <td>https://down-vn.img.susercontent.com/file/vn-1...</td>\n",
       "      <td>Kiến Thức - Khoa Học</td>\n",
       "    </tr>\n",
       "    <tr>\n",
       "      <th>1</th>\n",
       "      <td>Sách - Nào mình cùng vẽ - Khám phá đại dương</td>\n",
       "      <td>36000</td>\n",
       "      <td>2</td>\n",
       "      <td>5.0</td>\n",
       "      <td>https://down-vn.img.susercontent.com/file/vn-1...</td>\n",
       "      <td>Kiến Thức - Khoa Học</td>\n",
       "    </tr>\n",
       "    <tr>\n",
       "      <th>2</th>\n",
       "      <td>Sách - Kim Đồng - STEM - Học viện.. ( Bộ 6 Cuố...</td>\n",
       "      <td>81000</td>\n",
       "      <td>20</td>\n",
       "      <td>5.0</td>\n",
       "      <td>https://down-vn.img.susercontent.com/file/vn-1...</td>\n",
       "      <td>Kiến Thức - Khoa Học</td>\n",
       "    </tr>\n",
       "    <tr>\n",
       "      <th>3</th>\n",
       "      <td>Kim Đồng -  Sách - Cách trí giáo khoa thư</td>\n",
       "      <td>61200</td>\n",
       "      <td>5</td>\n",
       "      <td>5.0</td>\n",
       "      <td>https://down-vn.img.susercontent.com/file/vn-1...</td>\n",
       "      <td>Kiến Thức - Khoa Học</td>\n",
       "    </tr>\n",
       "    <tr>\n",
       "      <th>4</th>\n",
       "      <td>Kim Đồng -  Sách - Bật mí tất tần tật về bạn thân</td>\n",
       "      <td>54000</td>\n",
       "      <td>6</td>\n",
       "      <td>5.0</td>\n",
       "      <td>https://down-vn.img.susercontent.com/file/vn-1...</td>\n",
       "      <td>Kiến Thức - Khoa Học</td>\n",
       "    </tr>\n",
       "  </tbody>\n",
       "</table>\n",
       "</div>"
      ],
      "text/plain": [
       "                                            Tên sách    Giá  Đã bán  Đánh giá  \\\n",
       "0          Sách - Nào mình cùng vẽ - Rừng xanh bí ẩn  36000       2       5.0   \n",
       "1       Sách - Nào mình cùng vẽ - Khám phá đại dương  36000       2       5.0   \n",
       "2  Sách - Kim Đồng - STEM - Học viện.. ( Bộ 6 Cuố...  81000      20       5.0   \n",
       "3          Kim Đồng -  Sách - Cách trí giáo khoa thư  61200       5       5.0   \n",
       "4  Kim Đồng -  Sách - Bật mí tất tần tật về bạn thân  54000       6       5.0   \n",
       "\n",
       "                                       Link hình ảnh              Thể loại  \n",
       "0  https://down-vn.img.susercontent.com/file/vn-1...  Kiến Thức - Khoa Học  \n",
       "1  https://down-vn.img.susercontent.com/file/vn-1...  Kiến Thức - Khoa Học  \n",
       "2  https://down-vn.img.susercontent.com/file/vn-1...  Kiến Thức - Khoa Học  \n",
       "3  https://down-vn.img.susercontent.com/file/vn-1...  Kiến Thức - Khoa Học  \n",
       "4  https://down-vn.img.susercontent.com/file/vn-1...  Kiến Thức - Khoa Học  "
      ]
     },
     "execution_count": 14,
     "metadata": {},
     "output_type": "execute_result"
    }
   ],
   "source": [
    "data_khoa_hoc = pd.read_csv(\"data/Kiến Thức - Khoa Học.csv\")\n",
    "data_khoa_hoc['Thể loại'] = 'Kiến Thức - Khoa Học'\n",
    "data_manga = pd.read_csv(\"data/Manga_Comic.csv\")\n",
    "data_manga['Thể loại'] = 'Manga_Comic'\n",
    "data_truyen_tranh = pd.read_csv(\"data/Truyện tranh thiếu nhi.csv\")\n",
    "data_truyen_tranh['Thể loại'] = 'Truyện tranh thiếu nhi'\n",
    "data_nuoc_ngoai = pd.read_csv(\"data/Văn học nước ngoài.csv\")\n",
    "data_nuoc_ngoai['Thể loại'] = 'Văn học nước ngoài'\n",
    "data_VietNam = pd.read_csv(\"data/Văn học Việt Nam.csv\")\n",
    "data_VietNam['Thể loại'] = 'Văn học Việt Nam'\n",
    "df = pd.concat([data_khoa_hoc, data_manga, data_nuoc_ngoai, data_truyen_tranh, data_VietNam], ignore_index=True)\n",
    "df.head()"
   ]
  },
  {
   "cell_type": "code",
   "execution_count": 15,
   "id": "955b5eb2",
   "metadata": {},
   "outputs": [
    {
     "data": {
      "text/plain": [
       "0"
      ]
     },
     "execution_count": 15,
     "metadata": {},
     "output_type": "execute_result"
    }
   ],
   "source": [
    "df.duplicated(subset='Tên sách').sum()"
   ]
  },
  {
   "cell_type": "code",
   "execution_count": 16,
   "id": "1db49792",
   "metadata": {},
   "outputs": [
    {
     "data": {
      "text/html": [
       "<div>\n",
       "<style scoped>\n",
       "    .dataframe tbody tr th:only-of-type {\n",
       "        vertical-align: middle;\n",
       "    }\n",
       "\n",
       "    .dataframe tbody tr th {\n",
       "        vertical-align: top;\n",
       "    }\n",
       "\n",
       "    .dataframe thead th {\n",
       "        text-align: right;\n",
       "    }\n",
       "</style>\n",
       "<table border=\"1\" class=\"dataframe\">\n",
       "  <thead>\n",
       "    <tr style=\"text-align: right;\">\n",
       "      <th></th>\n",
       "      <th>Tên sách</th>\n",
       "      <th>Giá</th>\n",
       "      <th>Đã bán</th>\n",
       "      <th>Đánh giá</th>\n",
       "      <th>Link hình ảnh</th>\n",
       "      <th>Thể loại</th>\n",
       "    </tr>\n",
       "  </thead>\n",
       "  <tbody>\n",
       "  </tbody>\n",
       "</table>\n",
       "</div>"
      ],
      "text/plain": [
       "Empty DataFrame\n",
       "Columns: [Tên sách, Giá, Đã bán, Đánh giá, Link hình ảnh, Thể loại]\n",
       "Index: []"
      ]
     },
     "execution_count": 16,
     "metadata": {},
     "output_type": "execute_result"
    }
   ],
   "source": [
    "df[df.duplicated(subset='Tên sách')]"
   ]
  },
  {
   "cell_type": "code",
   "execution_count": 10,
   "id": "24b7f7ec",
   "metadata": {},
   "outputs": [
    {
     "name": "stdout",
     "output_type": "stream",
     "text": [
      "1\n",
      "<class 'pandas.core.frame.DataFrame'>\n",
      "RangeIndex: 31 entries, 0 to 30\n",
      "Data columns (total 5 columns):\n",
      " #   Column         Non-Null Count  Dtype  \n",
      "---  ------         --------------  -----  \n",
      " 0   Tên sách       31 non-null     object \n",
      " 1   Giá            31 non-null     int64  \n",
      " 2   Đã bán         31 non-null     int64  \n",
      " 3   Đánh giá       31 non-null     float64\n",
      " 4   Link hình ảnh  31 non-null     object \n",
      "dtypes: float64(1), int64(2), object(2)\n",
      "memory usage: 1.3+ KB\n",
      "None\n",
      "2\n",
      "<class 'pandas.core.frame.DataFrame'>\n",
      "RangeIndex: 46 entries, 0 to 45\n",
      "Data columns (total 5 columns):\n",
      " #   Column         Non-Null Count  Dtype  \n",
      "---  ------         --------------  -----  \n",
      " 0   Tên sách       46 non-null     object \n",
      " 1   Giá            46 non-null     int64  \n",
      " 2   Đã bán         46 non-null     int64  \n",
      " 3   Đánh giá       46 non-null     float64\n",
      " 4   Link hình ảnh  46 non-null     object \n",
      "dtypes: float64(1), int64(2), object(2)\n",
      "memory usage: 1.9+ KB\n",
      "None\n",
      "3\n",
      "<class 'pandas.core.frame.DataFrame'>\n",
      "RangeIndex: 18 entries, 0 to 17\n",
      "Data columns (total 5 columns):\n",
      " #   Column         Non-Null Count  Dtype  \n",
      "---  ------         --------------  -----  \n",
      " 0   Tên sách       18 non-null     object \n",
      " 1   Giá            18 non-null     int64  \n",
      " 2   Đã bán         18 non-null     int64  \n",
      " 3   Đánh giá       18 non-null     float64\n",
      " 4   Link hình ảnh  18 non-null     object \n",
      "dtypes: float64(1), int64(2), object(2)\n",
      "memory usage: 848.0+ bytes\n",
      "None\n",
      "4\n",
      "<class 'pandas.core.frame.DataFrame'>\n",
      "RangeIndex: 24 entries, 0 to 23\n",
      "Data columns (total 5 columns):\n",
      " #   Column         Non-Null Count  Dtype  \n",
      "---  ------         --------------  -----  \n",
      " 0   Tên sách       24 non-null     object \n",
      " 1   Giá            24 non-null     int64  \n",
      " 2   Đã bán         24 non-null     int64  \n",
      " 3   Đánh giá       24 non-null     float64\n",
      " 4   Link hình ảnh  24 non-null     object \n",
      "dtypes: float64(1), int64(2), object(2)\n",
      "memory usage: 1.1+ KB\n",
      "None\n",
      "5\n",
      "<class 'pandas.core.frame.DataFrame'>\n",
      "RangeIndex: 24 entries, 0 to 23\n",
      "Data columns (total 5 columns):\n",
      " #   Column         Non-Null Count  Dtype  \n",
      "---  ------         --------------  -----  \n",
      " 0   Tên sách       24 non-null     object \n",
      " 1   Giá            24 non-null     int64  \n",
      " 2   Đã bán         24 non-null     int64  \n",
      " 3   Đánh giá       24 non-null     float64\n",
      " 4   Link hình ảnh  24 non-null     object \n",
      "dtypes: float64(1), int64(2), object(2)\n",
      "memory usage: 1.1+ KB\n",
      "None\n"
     ]
    }
   ],
   "source": [
    "i = 1\n",
    "for x in [data_khoa_hoc, data_manga, data_nuoc_ngoai, data_truyen_tranh, data_VietNam]:\n",
    "    print(i)\n",
    "    print(x.info())\n",
    "    i = i+1"
   ]
  },
  {
   "cell_type": "code",
   "execution_count": null,
   "id": "74a18214",
   "metadata": {},
   "outputs": [],
   "source": []
  }
 ],
 "metadata": {
  "kernelspec": {
   "display_name": "Python 3 (ipykernel)",
   "language": "python",
   "name": "python3"
  },
  "language_info": {
   "codemirror_mode": {
    "name": "ipython",
    "version": 3
   },
   "file_extension": ".py",
   "mimetype": "text/x-python",
   "name": "python",
   "nbconvert_exporter": "python",
   "pygments_lexer": "ipython3",
   "version": "3.8.10"
  }
 },
 "nbformat": 4,
 "nbformat_minor": 5
}
